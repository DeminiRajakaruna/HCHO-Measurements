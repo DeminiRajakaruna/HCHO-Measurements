{
 "cells": [
  {
   "cell_type": "code",
   "execution_count": 2,
   "metadata": {},
   "outputs": [],
   "source": [
    "import pandas as pd\n",
    "\n",
    "# Load datasets\n",
    "dataset1 = pd.read_csv(\"filled_dataset_1.csv\")\n",
    "dataset2 = pd.read_csv(\"filled_dataset_2.csv\")\n",
    "dataset3 = pd.read_csv(\"filled_dataset_3.csv\")\n",
    "dataset4 = pd.read_csv(\"filled_dataset_4.csv\")\n",
    "dataset5 = pd.read_csv(\"filled_dataset_5.csv\")\n",
    "dataset6 = pd.read_csv(\"filled_dataset_6.csv\")\n",
    "dataset7 = pd.read_csv(\"filled_dataset_7.csv\")\n",
    "\n",
    "# Concatenate datasets\n",
    "combined_dataset = pd.concat([dataset1, dataset2, dataset3, dataset4, dataset5, dataset6, dataset7], axis=0)\n",
    "\n",
    "# Reset index if needed\n",
    "combined_dataset.reset_index(drop=True, inplace=True)\n",
    "\n",
    "# Save the new dataset\n",
    "combined_dataset.to_csv(\"__All_Location.csv\", index=False)"
   ]
  },
  {
   "cell_type": "code",
   "execution_count": 3,
   "metadata": {},
   "outputs": [
    {
     "name": "stdout",
     "output_type": "stream",
     "text": [
      "HCHO Reading    float64\n",
      "Current Date     object\n",
      "Next Date        object\n",
      "Location         object\n",
      "dtype: object\n"
     ]
    }
   ],
   "source": [
    "import pandas as pd\n",
    "\n",
    "# Load your dataset into DataFrame 'data'\n",
    "data = pd.read_csv(\"__All_Location.csv\")\n",
    "\n",
    "# Check the data types of columns\n",
    "column_data_types = data.dtypes\n",
    "\n",
    "# Display the data types of columns\n",
    "print(column_data_types)"
   ]
  }
 ],
 "metadata": {
  "kernelspec": {
   "display_name": "Python 3",
   "language": "python",
   "name": "python3"
  },
  "language_info": {
   "codemirror_mode": {
    "name": "ipython",
    "version": 3
   },
   "file_extension": ".py",
   "mimetype": "text/x-python",
   "name": "python",
   "nbconvert_exporter": "python",
   "pygments_lexer": "ipython3",
   "version": "3.8.3"
  }
 },
 "nbformat": 4,
 "nbformat_minor": 2
}
